{
 "cells": [
  {
   "cell_type": "markdown",
   "metadata": {},
   "source": [
    "## imports"
   ]
  },
  {
   "cell_type": "code",
   "execution_count": null,
   "metadata": {},
   "outputs": [
    {
     "name": "stdout",
     "output_type": "stream",
     "text": [
      "Current working directory: C:\\Users\\BootMR\\Documents\\data_export\\MAT\n"
     ]
    }
   ],
   "source": [
    "import pandas as pd\n",
    "import os\n",
    "import matplotlib.pyplot as plt\n",
    "import seaborn as sns\n",
    "from datetime import datetime\n",
    "import numpy as np\n",
    "from datetime import timedelta\n",
    "import scipy.stats as stats\n",
    "import shutil\n",
    "from collections import defaultdict\n",
    "\n",
    "# Specify the path to the desired directory\n",
    "parent_dir = root_dir = r'<<< PLACE HERE DIRECTORY WITH DATASET >>>'\n",
    "\n",
    "# Change the current working directory to the specified directory\n",
    "os.chdir(parent_dir)\n",
    "\n",
    "# Verify that the working directory has been changed\n",
    "print(\"Current working directory:\", os.getcwd())"
   ]
  },
  {
   "cell_type": "markdown",
   "metadata": {},
   "source": [
    "## Explanation\n"
   ]
  },
  {
   "cell_type": "code",
   "execution_count": null,
   "metadata": {},
   "outputs": [],
   "source": [
    "'''\n",
    "First convert ITLOG files with Inertia software to MAT files\n",
    "Run Matlab script to compute cadence rate into csv format\n",
    "Run Python scripts to correct files with cadence rates, merge them, and sort into right folders \n",
    "\n",
    "'''"
   ]
  },
  {
   "cell_type": "code",
   "execution_count": 34,
   "metadata": {},
   "outputs": [
    {
     "name": "stdout",
     "output_type": "stream",
     "text": [
      "✅ Processed: C:\\Users\\BootMR\\Documents\\data_export\\MAT\\04_20240524T141611_516-pedal_1-node_516-cadence-2hz.csv\n",
      "✅ Processed: C:\\Users\\BootMR\\Documents\\data_export\\MAT\\04_20240524T141622_516-pedal_1-node_516-cadence-2hz.csv\n",
      "✅ Processed: C:\\Users\\BootMR\\Documents\\data_export\\MAT\\04_20240524T141631_516-pedal_1-node_516-cadence-2hz.csv\n"
     ]
    }
   ],
   "source": [
    "## correct columns\n",
    "\n",
    "def process_and_update_cadence_files(directory):\n",
    "    \"\"\"\n",
    "    Processes cadence files in the specified directory:\n",
    "    - Targets files ending with '-cadence-2hz.csv'\n",
    "    - Renames 'Time_s' column to 'timestamp'\n",
    "    - Removes 'Time_mn' column\n",
    "    - Renames 'Cadence_tpmn' column to 'cadence_tpmn'\n",
    "\n",
    "    Parameters:\n",
    "        directory (str): Path to the directory containing the files.\n",
    "    \"\"\"\n",
    "    # Get all relevant cadence files\n",
    "    cadence_files = [f for f in os.listdir(directory) if f.endswith(\"-cadence-2hz.csv\")]\n",
    "    \n",
    "    for cadence_file in cadence_files:\n",
    "        cadence_file_path = os.path.join(directory, cadence_file)\n",
    "        \n",
    "        try:\n",
    "            # Load the data\n",
    "            cadence_df = pd.read_csv(cadence_file_path)\n",
    "\n",
    "            # Rename 'Time_s' → 'timestamp'\n",
    "            if 'Time_s' in cadence_df.columns:\n",
    "                cadence_df.rename(columns={'Time_s': 'timestamp'}, inplace=True)\n",
    "\n",
    "            # Drop 'Time_mn' if it exists\n",
    "            if 'Time_mn' in cadence_df.columns:\n",
    "                cadence_df.drop(columns=['Time_mn'], inplace=True)\n",
    "\n",
    "            # Rename 'Cadence_tpmn' → 'cadence_tpmn'\n",
    "            if 'Cadence_tpmn' in cadence_df.columns:\n",
    "                cadence_df.rename(columns={'Cadence_tpmn': 'cadence_tpmn'}, inplace=True)\n",
    "\n",
    "            # Save changes\n",
    "            cadence_df.to_csv(cadence_file_path, index=False)\n",
    "            print(f\"✅ Processed: {cadence_file_path}\")\n",
    "\n",
    "        except Exception as e:\n",
    "            print(f\"❌ Error processing {cadence_file_path}: {e}\")\n",
    "\n",
    "# Example usage:\n",
    "process_and_update_cadence_files(r\"C:\\Users\\BootMR\\Documents\\data_export\\MAT\")\n"
   ]
  },
  {
   "cell_type": "code",
   "execution_count": 35,
   "metadata": {},
   "outputs": [
    {
     "name": "stdout",
     "output_type": "stream",
     "text": [
      "✅ IMU start time from 04_20240524T141611_516_imuoriginal.csv: 2024-05-06 14:12:06\n",
      "💾 Updated cadence timestamps in: 04_20240524T141611_516-pedal_1-node_516-cadence-2hz.csv\n",
      "✅ IMU start time from 04_20240524T141622_516_imuoriginal.csv: 2024-05-06 14:40:48\n",
      "💾 Updated cadence timestamps in: 04_20240524T141622_516-pedal_1-node_516-cadence-2hz.csv\n",
      "✅ IMU start time from 04_20240524T141631_516_imuoriginal.csv: 2024-05-06 15:01:10\n",
      "💾 Updated cadence timestamps in: 04_20240524T141631_516-pedal_1-node_516-cadence-2hz.csv\n"
     ]
    }
   ],
   "source": [
    "## correct timestamps\n",
    "\n",
    "def extract_start_time_from_imu(file_path):\n",
    "    \"\"\"\n",
    "    Extract the start time from the IMU file by reading line 3 (index 2),\n",
    "    assuming format: ...,YYYY-MM-DD HH:MM:SS,...\n",
    "    \"\"\"\n",
    "    with open(file_path, 'r') as file:\n",
    "        imu_lines = file.readlines()\n",
    "        try:\n",
    "            timestamp_line = imu_lines[2]\n",
    "            imu_start_time_str = timestamp_line.split(\",\")[1].strip()\n",
    "            return datetime.strptime(imu_start_time_str, \"%Y-%m-%d %H:%M:%S\")\n",
    "        except (IndexError, ValueError) as e:\n",
    "            raise ValueError(f\"Error parsing timestamp from line: {timestamp_line}\\nError: {e}\")\n",
    "\n",
    "def process_file_pairs(directory):\n",
    "    \"\"\"\n",
    "    Finds IMU and matching cadence files in the directory,\n",
    "    replaces relative timestamps in cadence file with absolute timestamps,\n",
    "    and saves the result back to the same file.\n",
    "    \"\"\"\n",
    "    all_files = os.listdir(directory)\n",
    "\n",
    "    imu_files = [f for f in all_files if f.endswith(\"_imuoriginal.csv\")]\n",
    "    cadence_files = [f for f in all_files if f.endswith(\"-cadence-2hz.csv\")]\n",
    "\n",
    "    for imu_file in imu_files:\n",
    "        # Extract prefix before '_imuoriginal.csv'\n",
    "        prefix = imu_file.replace(\"_imuoriginal.csv\", \"\")\n",
    "\n",
    "        # Try to find a cadence file that starts with the same prefix\n",
    "        matching_cadence = next((f for f in cadence_files if f.startswith(prefix)), None)\n",
    "\n",
    "        if matching_cadence:\n",
    "            imu_path = os.path.join(directory, imu_file)\n",
    "            cadence_path = os.path.join(directory, matching_cadence)\n",
    "\n",
    "            try:\n",
    "                # Get absolute start time from IMU\n",
    "                imu_start_time = extract_start_time_from_imu(imu_path)\n",
    "                print(f\"✅ IMU start time from {imu_file}: {imu_start_time}\")\n",
    "\n",
    "                # Load cadence file\n",
    "                cadence_df = pd.read_csv(cadence_path)\n",
    "\n",
    "                # Replace relative timestamps with absolute ones\n",
    "                if 'timestamp' not in cadence_df.columns:\n",
    "                    raise ValueError(\"Missing 'timestamp' column in cadence file.\")\n",
    "\n",
    "                cadence_df['timestamp'] = cadence_df['timestamp'].apply(\n",
    "                    lambda x: imu_start_time + timedelta(seconds=float(x))\n",
    "                )\n",
    "\n",
    "                cadence_df['timestamp'] = cadence_df['timestamp'] + timedelta(seconds=2)\n",
    "\n",
    "                # Save modified cadence file\n",
    "                cadence_df.to_csv(cadence_path, index=False)\n",
    "                print(f\"💾 Updated cadence timestamps in: {matching_cadence}\")\n",
    "\n",
    "            except Exception as e:\n",
    "                print(f\"❌ Error processing:\\n  IMU: {imu_path}\\n  Cadence: {cadence_path}\\n  Error: {e}\")\n",
    "        else:\n",
    "            print(f\"⚠️ No matching cadence file found for IMU file: {imu_file}\")\n",
    "\n",
    "# Example usage\n",
    "directory_path = r\"C:\\Users\\BootMR\\Documents\\data_export\\MAT\"\n",
    "process_file_pairs(directory_path)\n"
   ]
  },
  {
   "cell_type": "code",
   "execution_count": 38,
   "metadata": {},
   "outputs": [
    {
     "name": "stdout",
     "output_type": "stream",
     "text": [
      "✅ Merged 3 files for p_id 04 → C:\\Users\\BootMR\\Documents\\data_export\\04\\04_cadence_merged.csv\n"
     ]
    }
   ],
   "source": [
    "\n",
    "\n",
    "def merge_cadence_files_by_pid(source_dir, export_root):\n",
    "    \"\"\"\n",
    "    Merges `*-2hz.csv` files by p_id and saves them in export_root/p_id/{p_id}_cadence_merged.csv.\n",
    "    \n",
    "    Parameters:\n",
    "        source_dir (str): Directory with input cadence files.\n",
    "        export_root (str): Root directory where merged files will be saved in subfolders.\n",
    "    \"\"\"\n",
    "    all_files = os.listdir(source_dir)\n",
    "    target_files = [f for f in all_files if f.endswith(\"-2hz.csv\") and len(f) >= 2 and f[:2].isdigit()]\n",
    "\n",
    "    # Group files by p_id (first two characters of filename)\n",
    "    grouped_files = defaultdict(list)\n",
    "    for f in target_files:\n",
    "        p_id = f[:2]\n",
    "        grouped_files[p_id].append(f)\n",
    "\n",
    "    for p_id, files in grouped_files.items():\n",
    "        files_sorted = sorted(files)\n",
    "        merged_df = pd.DataFrame()\n",
    "\n",
    "        for f in files_sorted:\n",
    "            try:\n",
    "                df = pd.read_csv(os.path.join(source_dir, f))\n",
    "                merged_df = pd.concat([merged_df, df], ignore_index=True)\n",
    "            except Exception as e:\n",
    "                print(f\"❌ Error reading {f}: {e}\")\n",
    "\n",
    "        # Create subfolder and save merged file with name like 04_cadence_merged.csv\n",
    "        output_folder = os.path.join(export_root, p_id)\n",
    "        os.makedirs(output_folder, exist_ok=True)\n",
    "\n",
    "        output_filename = f\"{p_id}_cadence_merged.csv\"\n",
    "        output_path = os.path.join(output_folder, output_filename)\n",
    "\n",
    "        merged_df.to_csv(output_path, index=False)\n",
    "        print(f\"✅ Merged {len(files_sorted)} files for p_id {p_id} → {output_path}\")\n",
    "\n",
    "# Example usage\n",
    "source_dir = r\"C:\\Users\\BootMR\\Documents\\data_export\\MAT\"\n",
    "export_root = r\"C:\\Users\\BootMR\\Documents\\data_export\"\n",
    "merge_cadence_files_by_pid(source_dir, export_root)\n"
   ]
  }
 ],
 "metadata": {
  "kernelspec": {
   "display_name": "Python 3",
   "language": "python",
   "name": "python3"
  },
  "language_info": {
   "codemirror_mode": {
    "name": "ipython",
    "version": 3
   },
   "file_extension": ".py",
   "mimetype": "text/x-python",
   "name": "python",
   "nbconvert_exporter": "python",
   "pygments_lexer": "ipython3",
   "version": "3.11.9"
  }
 },
 "nbformat": 4,
 "nbformat_minor": 2
}
